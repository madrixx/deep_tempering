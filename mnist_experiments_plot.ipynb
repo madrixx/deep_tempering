{
 "cells": [
  {
   "cell_type": "code",
   "execution_count": 1,
   "metadata": {},
   "outputs": [],
   "source": [
    "import os\n",
    "from importlib import reload\n",
    "from simulation import summary_extractor as summ_ext\n",
    "reload(summ_ext)\n",
    "import matplotlib.pyplot as plt\n",
    "files_limit = 100\n",
    "# plt.style.use('dark_background')\n",
    "# beta_0 = 50\n",
    "files = [f for f in os.listdir('simulation/summaries/compressed/') \n",
    "         if 'v2' in f and 'info' in f and '_6_' in f and '_50_' in f]\n",
    "info_6_50 = summ_ext.ExperimentExtractor(files[:files_limit])\n",
    "\n",
    "files = [f for f in os.listdir('simulation/summaries/compressed/') \n",
    "         if 'v2' in f and 'energy' in f and '_6_' in f and '_50_' in f]\n",
    "energy_6_50 = summ_ext.ExperimentExtractor(files[:files_limit])\n",
    "\n",
    "files = [f for f in os.listdir('simulation/summaries/compressed/') \n",
    "         if 'v2' in f and 'info' in f and '_4_' in f and '_50_' in f]\n",
    "info_4_50 = summ_ext.ExperimentExtractor(files[:files_limit])\n",
    "\n",
    "files = [f for f in os.listdir('simulation/summaries/compressed/') \n",
    "         if 'v2' in f and 'energy' in f and '_4_' in f and '_50_' in f]\n",
    "energy_4_50 = summ_ext.ExperimentExtractor(files[:files_limit])\n",
    "\n",
    "# beta_0 = 250\n",
    "files = [f for f in os.listdir('simulation/summaries/compressed/') \n",
    "         if 'v2' in f and 'energy' in f and '_6_' in f and '_250_' in f]\n",
    "energy_6_250 = summ_ext.ExperimentExtractor(files[:files_limit])\n",
    "\n",
    "files = [f for f in os.listdir('simulation/summaries/compressed/')\n",
    "        if 'v2' in f and 'info' in f and '_6_' in f and '_250_' in f]\n",
    "info_6_250 = summ_ext.ExperimentExtractor(files[:files_limit])\n",
    "\n",
    "files = [f for f in os.listdir('simulation/summaries/compressed/') \n",
    "         if 'v2' in f and 'energy' in f and '_4_' in f and '_250_' in f]\n",
    "energy_4_250 = summ_ext.ExperimentExtractor(files[:files_limit])\n",
    "\n",
    "files = [f for f in os.listdir('simulation/summaries/compressed/')\n",
    "        if 'v2' in f and 'info' in f and '_4_' in f and '_250_' in f]\n",
    "info_4_250 = summ_ext.ExperimentExtractor(files[:files_limit])\n",
    "\n",
    "# beta_0 = 1\n",
    "files = [f for f in os.listdir('simulation/summaries/compressed/') \n",
    "         if 'v2' in f and 'energy' in f and '_6_' in f and '_1_' in f]\n",
    "energy_6_1 = summ_ext.ExperimentExtractor(files[:files_limit])\n",
    "\n",
    "files = [f for f in os.listdir('simulation/summaries/compressed/')\n",
    "        if 'v2' in f and 'info' in f and '_6_' in f and '_1_' in f]\n",
    "info_6_1 = summ_ext.ExperimentExtractor(files[:files_limit])\n",
    "\n",
    "files = [f for f in os.listdir('simulation/summaries/compressed/') \n",
    "         if 'v2' in f and 'energy' in f and '_4_' in f and '_1_' in f]\n",
    "energy_4_1 = summ_ext.ExperimentExtractor(files[:files_limit])\n",
    "\n",
    "files = [f for f in os.listdir('simulation/summaries/compressed/')\n",
    "        if 'v2' in f and 'info' in f and '_4_' in f and '_1_' in f]\n",
    "info_4_1 = summ_ext.ExperimentExtractor(files[:files_limit])\n",
    "\n",
    "extractors1 = [energy_6_1, info_6_1, energy_4_1, info_4_1]\n",
    "extractors50 = [energy_6_50, info_6_50, energy_4_50, info_4_50]\n",
    "extractors250 = [energy_6_250, info_6_250, energy_4_250, info_4_250]\n",
    "\n",
    "\n",
    "\n",
    "res = summ_ext.ExperimentPlot(extractors1 + extractors50 + extractors250)\n",
    "\n"
   ]
  },
  {
   "cell_type": "code",
   "execution_count": null,
   "metadata": {},
   "outputs": [],
   "source": [
    "fig = res.plot_final_crossentropy_per_ordered_replica_vs_tempfactor(dataset_type='validation', elinewidth=0, set_ylim=20, )"
   ]
  },
  {
   "cell_type": "code",
   "execution_count": null,
   "metadata": {},
   "outputs": [],
   "source": [
    "fig = res.plot_best_crossentropy_per_ordered_replica_vs_tempfactor(dataset_type='validation')"
   ]
  },
  {
   "cell_type": "code",
   "execution_count": null,
   "metadata": {},
   "outputs": [],
   "source": [
    "fig = res.plot_accept_ratio_per_replica_vs_tempfactor()"
   ]
  },
  {
   "cell_type": "code",
   "execution_count": null,
   "metadata": {},
   "outputs": [],
   "source": [
    "f = 'nn_mnist_tempfactor_PTLD_True_boltzmann_6_energy_250_crossentropy_400_v2_2'\n",
    "se = summ_ext.SummaryExtractor(f)\n",
    "print(se.get_description()['temp_factor'])\n",
    "figs = [se.plot_diffusion(add_swap_marks=True, N=i) for i in range(10)]"
   ]
  },
  {
   "cell_type": "code",
   "execution_count": null,
   "metadata": {},
   "outputs": [],
   "source": []
  },
  {
   "cell_type": "code",
   "execution_count": null,
   "metadata": {},
   "outputs": [],
   "source": []
  }
 ],
 "metadata": {
  "kernelspec": {
   "display_name": "Python 3",
   "language": "python",
   "name": "python3"
  },
  "language_info": {
   "codemirror_mode": {
    "name": "ipython",
    "version": 3
   },
   "file_extension": ".py",
   "mimetype": "text/x-python",
   "name": "python",
   "nbconvert_exporter": "python",
   "pygments_lexer": "ipython3",
   "version": "3.6.6"
  }
 },
 "nbformat": 4,
 "nbformat_minor": 2
}
