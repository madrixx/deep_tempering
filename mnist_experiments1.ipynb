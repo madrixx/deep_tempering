{
 "cells": [
  {
   "cell_type": "code",
   "execution_count": 1,
   "metadata": {},
   "outputs": [
    {
     "name": "stderr",
     "output_type": "stream",
     "text": [
      "/usr/lib/python3.5/importlib/_bootstrap.py:222: RuntimeWarning: numpy.dtype size changed, may indicate binary incompatibility. Expected 96, got 88\n",
      "  return f(*args, **kwds)\n",
      "/usr/lib/python3.5/importlib/_bootstrap.py:222: RuntimeWarning: numpy.dtype size changed, may indicate binary incompatibility. Expected 96, got 88\n",
      "  return f(*args, **kwds)\n",
      "/usr/lib/python3.5/importlib/_bootstrap.py:222: RuntimeWarning: numpy.dtype size changed, may indicate binary incompatibility. Expected 96, got 88\n",
      "  return f(*args, **kwds)\n",
      "/usr/lib/python3.5/importlib/_bootstrap.py:222: RuntimeWarning: numpy.dtype size changed, may indicate binary incompatibility. Expected 96, got 88\n",
      "  return f(*args, **kwds)\n",
      "/usr/lib/python3.5/importlib/_bootstrap.py:222: RuntimeWarning: numpy.dtype size changed, may indicate binary incompatibility. Expected 96, got 88\n",
      "  return f(*args, **kwds)\n"
     ]
    },
    {
     "name": "stdout",
     "output_type": "stream",
     "text": [
      "WARNING:tensorflow:From <ipython-input-1-cb0bc7841e64>:17: read_data_sets (from tensorflow.contrib.learn.python.learn.datasets.mnist) is deprecated and will be removed in a future version.\n",
      "Instructions for updating:\n",
      "Please use alternatives such as official/mnist/dataset.py from tensorflow/models.\n",
      "WARNING:tensorflow:From /usr/local/lib/python3.5/dist-packages/tensorflow/contrib/learn/python/learn/datasets/mnist.py:260: maybe_download (from tensorflow.contrib.learn.python.learn.datasets.base) is deprecated and will be removed in a future version.\n",
      "Instructions for updating:\n",
      "Please write your own downloading logic.\n",
      "WARNING:tensorflow:From /usr/local/lib/python3.5/dist-packages/tensorflow/contrib/learn/python/learn/datasets/mnist.py:262: extract_images (from tensorflow.contrib.learn.python.learn.datasets.mnist) is deprecated and will be removed in a future version.\n",
      "Instructions for updating:\n",
      "Please use tf.data to implement this functionality.\n",
      "Extracting simulation/data/mnist/train-images-idx3-ubyte.gz\n",
      "WARNING:tensorflow:From /usr/local/lib/python3.5/dist-packages/tensorflow/contrib/learn/python/learn/datasets/mnist.py:267: extract_labels (from tensorflow.contrib.learn.python.learn.datasets.mnist) is deprecated and will be removed in a future version.\n",
      "Instructions for updating:\n",
      "Please use tf.data to implement this functionality.\n",
      "Extracting simulation/data/mnist/train-labels-idx1-ubyte.gz\n",
      "Extracting simulation/data/mnist/t10k-images-idx3-ubyte.gz\n",
      "Extracting simulation/data/mnist/t10k-labels-idx1-ubyte.gz\n",
      "WARNING:tensorflow:From /usr/local/lib/python3.5/dist-packages/tensorflow/contrib/learn/python/learn/datasets/mnist.py:290: DataSet.__init__ (from tensorflow.contrib.learn.python.learn.datasets.mnist) is deprecated and will be removed in a future version.\n",
      "Instructions for updating:\n",
      "Please use alternatives such as official/mnist/dataset.py from tensorflow/models.\n"
     ]
    }
   ],
   "source": [
    "import tensorflow as tf\n",
    "import numpy as np\n",
    "from time import time\n",
    "from simulation.simulator import Simulator\n",
    "from simulation.architectures.mnist_architectures import nn_mnist_architecture\n",
    "from simulation.architectures.mnist_architectures import cnn_mnist_architecture2\n",
    "from simulation.architectures.cifar10_architectures import cnn_cifar10_architecture3\n",
    "from simulation.architectures.cifar10_architectures import cnn_cifar10_architecture4\n",
    "from tensorflow.examples.tutorials.mnist import input_data\n",
    "from simulation.multi_experiment_simulator import MultiExperimentSimulator\n",
    "import os\n",
    "from simulation.simulator_utils import generate_experiment_name\n",
    "MNIST_DATAPATH = 'simulation/data/mnist/'\n",
    "import pprint\n",
    "pp = pprint.PrettyPrinter(indent=2)\n",
    "\n",
    "mnist = input_data.read_data_sets(MNIST_DATAPATH)\n",
    "train_data = mnist.train.images\n",
    "train_labels = mnist.train.labels\n",
    "test_data = mnist.test.images\n",
    "test_labels = mnist.test.labels\n",
    "valid_data = mnist.validation.images\n",
    "valid_labels = mnist.validation.labels\n",
    "data = {'train_data':train_data,\n",
    "       'train_labels':train_labels,\n",
    "       'test_data':test_data,\n",
    "       'test_labels':test_labels,\n",
    "       'valid_data':valid_data,\n",
    "       'valid_labels':valid_labels}"
   ]
  },
  {
   "cell_type": "code",
   "execution_count": 2,
   "metadata": {},
   "outputs": [],
   "source": [
    "\"\"\"MUTUAL VALS:\"\"\"\n",
    "tuning_parameter_vals = [\n",
    "                        3,\n",
    "                        3.1,\n",
    "                        3.2,\n",
    "                        3.3,\n",
    "                        3.4,\n",
    "                        3.5,\n",
    "                        3.6,\n",
    "                        3.7,\n",
    "                        3.8,\n",
    "                        3.9,\n",
    "                        4\n",
    "                        \n",
    "                       ]\n",
    "\n",
    "n_experiments = len(tuning_parameter_vals)\n",
    "n_simulations = 10\n",
    "batch_size = 50\n",
    "n_epochs = 100\n",
    "swap_attempt_step = 100\n",
    "dataset = 'mnist'\n",
    "tuning_param_name = 'tempfactor'\n",
    "swap_proba = 'boltzmann'\n",
    "optimizer_name = 'PTLD'\n",
    "loss_func_name = 'cross_entropy'\n",
    "do_swaps = True\n",
    "dataset_name = 'mnist'\n",
    "description = 'v3'\n",
    "noise_type = 'betas'\n",
    "burn_in_period = 2000\n",
    "architecture_name = 'nn'\n",
    "n_replicas = 8\n",
    "beta_0 = 800\n",
    "params = tuning_parameter_vals\n",
    "start_experiments_at = 0\n",
    "learning_rate = 0.01\n",
    "architecture_func = nn_mnist_architecture\n",
    "surface_view = 'info'"
   ]
  },
  {
   "cell_type": "code",
   "execution_count": null,
   "metadata": {},
   "outputs": [],
   "source": []
  },
  {
   "cell_type": "code",
   "execution_count": null,
   "metadata": {},
   "outputs": [
    {
     "name": "stdout",
     "output_type": "stream",
     "text": [
      "experiment: 1 / 11 , param_val: 3\n",
      "nn_mnist_tempfactor_PTLD_True_boltzmann_8_info_800_crossentropy_100_2000_0.01_v4_0\n",
      "[800, 2400, 7200, 21600, 64800, 194400, 583200, 1749600]\n",
      "epoch:11, step:12500, 0.30501744,0.45088378,0.6556592,0.23035346,0.31484663,0.12961553,0.39896095,0.13840543, accept_ratio:0.6730769230769229, proba:0.5100749479993735         "
     ]
    }
   ],
   "source": [
    "\n",
    "\n",
    "\n",
    "mes = MultiExperimentSimulator(architecture_func,\n",
    "                          params, \n",
    "                          n_replicas, \n",
    "                          beta_0,\n",
    "                          learning_rate,\n",
    "                          architecture_name,\n",
    "                          surface_view,\n",
    "                          data,\n",
    "                          noise_type = noise_type,\n",
    "                          n_simulations=n_simulations,\n",
    "                          batch_size=batch_size,\n",
    "                          n_epochs=n_epochs,\n",
    "                          swap_attempt_step=swap_attempt_step,\n",
    "                          dataset_name=dataset_name,\n",
    "                          tuning_param_name=tuning_param_name,\n",
    "                          swap_proba=swap_proba,\n",
    "                          optimizer_name=optimizer_name,\n",
    "                          loss_func_name=loss_func_name,\n",
    "                          do_swaps=do_swaps,\n",
    "                          description=description,\n",
    "                          start_experiments_at=start_experiments_at,\n",
    "                          burn_in_period=burn_in_period)\n",
    "mes.run_all()\n",
    "del mes"
   ]
  },
  {
   "cell_type": "code",
   "execution_count": null,
   "metadata": {},
   "outputs": [],
   "source": []
  },
  {
   "cell_type": "code",
   "execution_count": null,
   "metadata": {},
   "outputs": [],
   "source": []
  }
 ],
 "metadata": {
  "kernelspec": {
   "display_name": "Python 3",
   "language": "python",
   "name": "python3"
  },
  "language_info": {
   "codemirror_mode": {
    "name": "ipython",
    "version": 3
   },
   "file_extension": ".py",
   "mimetype": "text/x-python",
   "name": "python",
   "nbconvert_exporter": "python",
   "pygments_lexer": "ipython3",
   "version": "3.5.2"
  }
 },
 "nbformat": 4,
 "nbformat_minor": 2
}
