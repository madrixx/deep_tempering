{
 "cells": [
  {
   "cell_type": "code",
   "execution_count": 1,
   "metadata": {},
   "outputs": [
    {
     "name": "stderr",
     "output_type": "stream",
     "text": [
      "/usr/lib/python3.5/importlib/_bootstrap.py:222: RuntimeWarning: numpy.dtype size changed, may indicate binary incompatibility. Expected 96, got 88\n",
      "  return f(*args, **kwds)\n",
      "/usr/lib/python3.5/importlib/_bootstrap.py:222: RuntimeWarning: numpy.dtype size changed, may indicate binary incompatibility. Expected 96, got 88\n",
      "  return f(*args, **kwds)\n",
      "/usr/lib/python3.5/importlib/_bootstrap.py:222: RuntimeWarning: numpy.dtype size changed, may indicate binary incompatibility. Expected 96, got 88\n",
      "  return f(*args, **kwds)\n",
      "/usr/lib/python3.5/importlib/_bootstrap.py:222: RuntimeWarning: numpy.dtype size changed, may indicate binary incompatibility. Expected 96, got 88\n",
      "  return f(*args, **kwds)\n"
     ]
    }
   ],
   "source": [
    "import tensorflow as tf\n",
    "import numpy as np\n",
    "from simulation.simulator import Simulator\n",
    "from simulation.architectures.mnist_architectures import nn_mnist_architecture\n",
    "from simulation.architectures.mnist_architectures import cnn_mnist_architecture\n",
    "from simulation.architectures.cifar10_architectures import cnn_cifar10_architecture3\n",
    "from simulation.architectures.cifar10_architectures import cnn_cifar10_architecture4\n",
    "from tensorflow.examples.tutorials.mnist import input_data\n",
    "import os\n",
    "MNIST_DATAPATH = 'simulation/data/mnist/'"
   ]
  },
  {
   "cell_type": "code",
   "execution_count": 2,
   "metadata": {},
   "outputs": [
    {
     "data": {
      "text/plain": [
       "\"\\nnoise_list = [0.0001, 0.0007, 0.0013, 0.0019, 0.0026, 0.0033, 0.004]\\nbatch_size = 50\\nn_epochs = 15\\nname = 'nn_mnist1'\\ndescription = 'first simulation. '\\nsim = Simulator(nn_mnist_architecture, 0.01, noise_list, 'random_normal',\\n               batch_size=batch_size, n_epochs=n_epochs, name=name,\\n               description=name + '.json')\\n\""
      ]
     },
     "execution_count": 2,
     "metadata": {},
     "output_type": "execute_result"
    }
   ],
   "source": [
    "\"\"\"\n",
    "noise_list = [0.0001, 0.0007, 0.0013, 0.0019, 0.0026, 0.0033, 0.004]\n",
    "batch_size = 50\n",
    "n_epochs = 15\n",
    "name = 'nn_mnist1'\n",
    "description = 'first simulation. '\n",
    "sim = Simulator(nn_mnist_architecture, 0.01, noise_list, 'random_normal',\n",
    "               batch_size=batch_size, n_epochs=n_epochs, name=name,\n",
    "               description=name + '.json')\n",
    "\"\"\""
   ]
  },
  {
   "cell_type": "code",
   "execution_count": 3,
   "metadata": {},
   "outputs": [
    {
     "data": {
      "text/plain": [
       "'\\nmnist = input_data.read_data_sets(MNIST_DATAPATH)\\ntrain_data = mnist.train.images\\ntrain_labels = mnist.train.labels\\ntest_data = mnist.test.images\\ntest_labels = mnist.test.labels\\nvalid_data = mnist.validation.images\\nvalid_labels = mnist.validation.labels\\nsim.train(train_data=train_data, train_labels=train_labels,\\n\\t\\ttest_data=test_data, test_labels=test_labels, \\n\\t\\tvalidation_data=valid_data, validation_labels=valid_labels)\\n'"
      ]
     },
     "execution_count": 3,
     "metadata": {},
     "output_type": "execute_result"
    }
   ],
   "source": [
    "\"\"\"\n",
    "mnist = input_data.read_data_sets(MNIST_DATAPATH)\n",
    "train_data = mnist.train.images\n",
    "train_labels = mnist.train.labels\n",
    "test_data = mnist.test.images\n",
    "test_labels = mnist.test.labels\n",
    "valid_data = mnist.validation.images\n",
    "valid_labels = mnist.validation.labels\n",
    "sim.train(train_data=train_data, train_labels=train_labels,\n",
    "\t\ttest_data=test_data, test_labels=test_labels, \n",
    "\t\tvalidation_data=valid_data, validation_labels=valid_labels)\n",
    "\"\"\""
   ]
  },
  {
   "cell_type": "code",
   "execution_count": 4,
   "metadata": {},
   "outputs": [
    {
     "data": {
      "text/plain": [
       "\"\\nnoise_list = [1.0, 0.9, 0.8, 0.7, 0.6, 0.5]\\nbatch_size = 50\\nn_epochs = 30\\nname = 'cnn_cifar1'\\ndescription = 'first simulation. '\\nsim = Simulator(cnn_cifar10_architecture4, 0.0001, noise_list, 'dropout',\\n               batch_size=batch_size, n_epochs=n_epochs, name=name,\\n               description='First cifar10')\\n\""
      ]
     },
     "execution_count": 4,
     "metadata": {},
     "output_type": "execute_result"
    }
   ],
   "source": [
    "\"\"\"\n",
    "noise_list = [1.0, 0.9, 0.8, 0.7, 0.6, 0.5]\n",
    "batch_size = 50\n",
    "n_epochs = 30\n",
    "name = 'cnn_cifar1'\n",
    "description = 'first simulation. '\n",
    "sim = Simulator(cnn_cifar10_architecture4, 0.0001, noise_list, 'dropout',\n",
    "               batch_size=batch_size, n_epochs=n_epochs, name=name,\n",
    "               description='First cifar10')\n",
    "\"\"\""
   ]
  },
  {
   "cell_type": "code",
   "execution_count": 5,
   "metadata": {},
   "outputs": [
    {
     "data": {
      "text/plain": [
       "'\\nfrom simulation.read_datasets import get_cifar10_data\\nX_train, y_train, X_test, y_test, X_valid, y_valid = get_cifar10_data()\\nsim.train(train_data=X_train, train_labels=y_train,\\n\\t\\ttest_data=X_test, test_labels=y_test, \\n\\t\\tvalidation_data=X_valid, validation_labels=y_valid)\\n'"
      ]
     },
     "execution_count": 5,
     "metadata": {},
     "output_type": "execute_result"
    }
   ],
   "source": [
    "\"\"\"\n",
    "from simulation.read_datasets import get_cifar10_data\n",
    "X_train, y_train, X_test, y_test, X_valid, y_valid = get_cifar10_data()\n",
    "sim.train(train_data=X_train, train_labels=y_train,\n",
    "\t\ttest_data=X_test, test_labels=y_test, \n",
    "\t\tvalidation_data=X_valid, validation_labels=y_valid)\n",
    "\"\"\""
   ]
  },
  {
   "cell_type": "code",
   "execution_count": 6,
   "metadata": {
    "scrolled": true
   },
   "outputs": [
    {
     "name": "stdout",
     "output_type": "stream",
     "text": [
      "[2.0, 1.3333333333333333, 0.8888888888888888, 0.5925925925925926, 0.3950617283950617, 0.26337448559670784, 0.1755829903978052, 0.11705532693187014, 0.07803688462124676, 0.05202458974749784]\n",
      "Extracting simulation/data/mnist/train-images-idx3-ubyte.gz\n",
      "Extracting simulation/data/mnist/train-labels-idx1-ubyte.gz\n",
      "Extracting simulation/data/mnist/t10k-images-idx3-ubyte.gz\n",
      "Extracting simulation/data/mnist/t10k-labels-idx1-ubyte.gz\n",
      "epoch:99, step:110000, 0.9036,0.9036,0.8959,0.9134,0.9134,0.9248,0.9181,0.9031,0.9316,0.8883, accept_ratio:1.0, proba:1.0                  1.0     "
     ]
    }
   ],
   "source": [
    "\n",
    "noise_list = [2.0/1.5**i for i in range(10)]\n",
    "#noise_list = [0.001, 0.01, 0.1, 0.25, 0.5, 1]\n",
    "print(noise_list)\n",
    "batch_size = 50\n",
    "n_epochs = 100\n",
    "name = 'nn_mnist1'\n",
    "description = 'first simulation. '\n",
    "sim = Simulator(nn_mnist_architecture, 0.001, noise_list, 'betas',\n",
    "               batch_size=batch_size, n_epochs=n_epochs, name=name,\n",
    "               description=name + '.json')\n",
    "\n",
    "mnist = input_data.read_data_sets(MNIST_DATAPATH)\n",
    "train_data = mnist.train.images\n",
    "train_labels = mnist.train.labels\n",
    "test_data = mnist.test.images\n",
    "test_labels = mnist.test.labels\n",
    "valid_data = mnist.validation.images\n",
    "valid_labels = mnist.validation.labels\n",
    "sim.train_PTLD(train_data=train_data, train_labels=train_labels,\n",
    "\t\ttest_data=test_data, test_labels=test_labels, \n",
    "\t\tvalidation_data=valid_data, validation_labels=valid_labels)\n"
   ]
  },
  {
   "cell_type": "code",
   "execution_count": null,
   "metadata": {},
   "outputs": [],
   "source": []
  },
  {
   "cell_type": "code",
   "execution_count": null,
   "metadata": {},
   "outputs": [],
   "source": []
  }
 ],
 "metadata": {
  "kernelspec": {
   "display_name": "Python 3",
   "language": "python",
   "name": "python3"
  },
  "language_info": {
   "codemirror_mode": {
    "name": "ipython",
    "version": 3
   },
   "file_extension": ".py",
   "mimetype": "text/x-python",
   "name": "python",
   "nbconvert_exporter": "python",
   "pygments_lexer": "ipython3",
   "version": "3.5.2"
  }
 },
 "nbformat": 4,
 "nbformat_minor": 2
}
