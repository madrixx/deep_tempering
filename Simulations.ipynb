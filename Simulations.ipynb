{
 "cells": [
  {
   "cell_type": "code",
   "execution_count": 1,
   "metadata": {},
   "outputs": [],
   "source": [
    "import tensorflow as tf\n",
    "import numpy as np\n",
    "from simulation.simulator import Simulator\n",
    "from simulation.architectures.mnist_architectures import nn_mnist_architecture\n",
    "from simulation.architectures.mnist_architectures import cnn_mnist_architecture\n",
    "from simulation.architectures.cifar10_architectures import cnn_cifar10_architecture3\n",
    "from simulation.architectures.cifar10_architectures import cnn_cifar10_architecture4\n",
    "from tensorflow.examples.tutorials.mnist import input_data\n",
    "import os\n",
    "MNIST_DATAPATH = 'simulation/data/mnist/'"
   ]
  },
  {
   "cell_type": "code",
   "execution_count": 2,
   "metadata": {},
   "outputs": [
    {
     "data": {
      "text/plain": [
       "\"\\nnoise_list = [0.0001, 0.0007, 0.0013, 0.0019, 0.0026, 0.0033, 0.004]\\nbatch_size = 50\\nn_epochs = 15\\nname = 'nn_mnist1'\\ndescription = 'first simulation. '\\nsim = Simulator(nn_mnist_architecture, 0.01, noise_list, 'random_normal',\\n               batch_size=batch_size, n_epochs=n_epochs, name=name,\\n               description=name + '.json')\\n\""
      ]
     },
     "execution_count": 2,
     "metadata": {},
     "output_type": "execute_result"
    }
   ],
   "source": [
    "\"\"\"\n",
    "noise_list = [0.0001, 0.0007, 0.0013, 0.0019, 0.0026, 0.0033, 0.004]\n",
    "batch_size = 50\n",
    "n_epochs = 15\n",
    "name = 'nn_mnist1'\n",
    "description = 'first simulation. '\n",
    "sim = Simulator(nn_mnist_architecture, 0.01, noise_list, 'random_normal',\n",
    "               batch_size=batch_size, n_epochs=n_epochs, name=name,\n",
    "               description=name + '.json')\n",
    "\"\"\""
   ]
  },
  {
   "cell_type": "code",
   "execution_count": 3,
   "metadata": {},
   "outputs": [
    {
     "data": {
      "text/plain": [
       "'\\nmnist = input_data.read_data_sets(MNIST_DATAPATH)\\ntrain_data = mnist.train.images\\ntrain_labels = mnist.train.labels\\ntest_data = mnist.test.images\\ntest_labels = mnist.test.labels\\nvalid_data = mnist.validation.images\\nvalid_labels = mnist.validation.labels\\nsim.train(train_data=train_data, train_labels=train_labels,\\n\\t\\ttest_data=test_data, test_labels=test_labels, \\n\\t\\tvalidation_data=valid_data, validation_labels=valid_labels)\\n'"
      ]
     },
     "execution_count": 3,
     "metadata": {},
     "output_type": "execute_result"
    }
   ],
   "source": [
    "\"\"\"\n",
    "mnist = input_data.read_data_sets(MNIST_DATAPATH)\n",
    "train_data = mnist.train.images\n",
    "train_labels = mnist.train.labels\n",
    "test_data = mnist.test.images\n",
    "test_labels = mnist.test.labels\n",
    "valid_data = mnist.validation.images\n",
    "valid_labels = mnist.validation.labels\n",
    "sim.train(train_data=train_data, train_labels=train_labels,\n",
    "\t\ttest_data=test_data, test_labels=test_labels, \n",
    "\t\tvalidation_data=valid_data, validation_labels=valid_labels)\n",
    "\"\"\""
   ]
  },
  {
   "cell_type": "code",
   "execution_count": 4,
   "metadata": {},
   "outputs": [
    {
     "data": {
      "text/plain": [
       "\"\\nnoise_list = [1.0, 0.9, 0.8, 0.7, 0.6, 0.5]\\nbatch_size = 50\\nn_epochs = 30\\nname = 'cnn_cifar1'\\ndescription = 'first simulation. '\\nsim = Simulator(cnn_cifar10_architecture4, 0.0001, noise_list, 'dropout',\\n               batch_size=batch_size, n_epochs=n_epochs, name=name,\\n               description='First cifar10')\\n\""
      ]
     },
     "execution_count": 4,
     "metadata": {},
     "output_type": "execute_result"
    }
   ],
   "source": [
    "\"\"\"\n",
    "noise_list = [1.0, 0.9, 0.8, 0.7, 0.6, 0.5]\n",
    "batch_size = 50\n",
    "n_epochs = 30\n",
    "name = 'cnn_cifar1'\n",
    "description = 'first simulation. '\n",
    "sim = Simulator(cnn_cifar10_architecture4, 0.0001, noise_list, 'dropout',\n",
    "               batch_size=batch_size, n_epochs=n_epochs, name=name,\n",
    "               description='First cifar10')\n",
    "\"\"\""
   ]
  },
  {
   "cell_type": "code",
   "execution_count": 5,
   "metadata": {},
   "outputs": [
    {
     "data": {
      "text/plain": [
       "'\\nfrom simulation.read_datasets import get_cifar10_data\\nX_train, y_train, X_test, y_test, X_valid, y_valid = get_cifar10_data()\\nsim.train(train_data=X_train, train_labels=y_train,\\n\\t\\ttest_data=X_test, test_labels=y_test, \\n\\t\\tvalidation_data=X_valid, validation_labels=y_valid)\\n'"
      ]
     },
     "execution_count": 5,
     "metadata": {},
     "output_type": "execute_result"
    }
   ],
   "source": [
    "\"\"\"\n",
    "from simulation.read_datasets import get_cifar10_data\n",
    "X_train, y_train, X_test, y_test, X_valid, y_valid = get_cifar10_data()\n",
    "sim.train(train_data=X_train, train_labels=y_train,\n",
    "\t\ttest_data=X_test, test_labels=y_test, \n",
    "\t\tvalidation_data=X_valid, validation_labels=y_valid)\n",
    "\"\"\""
   ]
  },
  {
   "cell_type": "code",
   "execution_count": 6,
   "metadata": {
    "scrolled": true
   },
   "outputs": [
    {
     "name": "stdout",
     "output_type": "stream",
     "text": [
      "[100.0, 141.4213562373095, 200.00000000000003]\n",
      "Extracting simulation/data/mnist/train-images-idx3-ubyte.gz\n",
      "Extracting simulation/data/mnist/train-labels-idx1-ubyte.gz\n",
      "Extracting simulation/data/mnist/t10k-images-idx3-ubyte.gz\n",
      "Extracting simulation/data/mnist/t10k-labels-idx1-ubyte.gz\n"
     ]
    },
    {
     "ename": "KeyboardInterrupt",
     "evalue": "",
     "output_type": "error",
     "traceback": [
      "\u001b[1;31m---------------------------------------------------------------------------\u001b[0m",
      "\u001b[1;31mKeyboardInterrupt\u001b[0m                         Traceback (most recent call last)",
      "\u001b[1;32m<ipython-input-6-12ee186ed593>\u001b[0m in \u001b[0;36m<module>\u001b[1;34m()\u001b[0m\n\u001b[0;32m     22\u001b[0m sim.train_n_times(sim.train_PTLD, train_data=train_data, train_labels=train_labels,\n\u001b[0;32m     23\u001b[0m                 \u001b[0mtest_data\u001b[0m\u001b[1;33m=\u001b[0m\u001b[0mtest_data\u001b[0m\u001b[1;33m,\u001b[0m \u001b[0mtest_labels\u001b[0m\u001b[1;33m=\u001b[0m\u001b[0mtest_labels\u001b[0m\u001b[1;33m,\u001b[0m\u001b[1;33m\u001b[0m\u001b[0m\n\u001b[1;32m---> 24\u001b[1;33m \t\tvalidation_data=valid_data, validation_labels=valid_labels)\n\u001b[0m",
      "\u001b[1;32mC:\\alin\\github\\deep_tempering\\simulation\\simulator.py\u001b[0m in \u001b[0;36mtrain_n_times\u001b[1;34m(self, train_func, *args, **kwargs)\u001b[0m\n\u001b[0;32m     43\u001b[0m \t\t\tself.graph = GraphBuilder(self.architecture, self.learning_rate, \n\u001b[0;32m     44\u001b[0m \t\t\t\tself.noise_list, self.name + '_s_' + str(i), self.noise_type, self.summary_type)\n\u001b[1;32m---> 45\u001b[1;33m                         \u001b[0mtrain_func\u001b[0m\u001b[1;33m(\u001b[0m\u001b[0mkwargs\u001b[0m\u001b[1;33m)\u001b[0m\u001b[1;33m\u001b[0m\u001b[0m\n\u001b[0m\u001b[0;32m     46\u001b[0m                         \u001b[0mgc\u001b[0m\u001b[1;33m.\u001b[0m\u001b[0mcollect\u001b[0m\u001b[1;33m(\u001b[0m\u001b[1;33m)\u001b[0m\u001b[1;33m\u001b[0m\u001b[0m\n\u001b[0;32m     47\u001b[0m \u001b[1;33m\u001b[0m\u001b[0m\n",
      "\u001b[1;32mC:\\alin\\github\\deep_tempering\\simulation\\simulator.py\u001b[0m in \u001b[0;36mtrain_PTLD\u001b[1;34m(self, kwargs)\u001b[0m\n\u001b[0;32m     80\u001b[0m \t\t\t\t\tvalid_data, valid_labels, 'validation')\n\u001b[0;32m     81\u001b[0m \t\t\t\tevaluated = sess.run(g.get_train_ops('validation'),\n\u001b[1;32m---> 82\u001b[1;33m \t\t\t\t\tfeed_dict=valid_feed_dict)\n\u001b[0m\u001b[0;32m     83\u001b[0m                                 \u001b[0mg\u001b[0m\u001b[1;33m.\u001b[0m\u001b[0madd_summary\u001b[0m\u001b[1;33m(\u001b[0m\u001b[0mevaluated\u001b[0m\u001b[1;33m,\u001b[0m \u001b[0mstep\u001b[0m\u001b[1;33m,\u001b[0m \u001b[0mdataset_type\u001b[0m\u001b[1;33m=\u001b[0m\u001b[1;34m'validation'\u001b[0m\u001b[1;33m)\u001b[0m\u001b[1;33m\u001b[0m\u001b[0m\n\u001b[0;32m     84\u001b[0m                                 \u001b[0mg\u001b[0m\u001b[1;33m.\u001b[0m\u001b[0mswap_replicas\u001b[0m\u001b[1;33m(\u001b[0m\u001b[0mevaluated\u001b[0m\u001b[1;33m)\u001b[0m\u001b[1;33m\u001b[0m\u001b[0m\n",
      "\u001b[1;32mc:\\users\\vladp\\appdata\\local\\programs\\python\\python36\\lib\\site-packages\\tensorflow\\python\\client\\session.py\u001b[0m in \u001b[0;36mrun\u001b[1;34m(self, fetches, feed_dict, options, run_metadata)\u001b[0m\n\u001b[0;32m    893\u001b[0m     \u001b[1;32mtry\u001b[0m\u001b[1;33m:\u001b[0m\u001b[1;33m\u001b[0m\u001b[0m\n\u001b[0;32m    894\u001b[0m       result = self._run(None, fetches, feed_dict, options_ptr,\n\u001b[1;32m--> 895\u001b[1;33m                          run_metadata_ptr)\n\u001b[0m\u001b[0;32m    896\u001b[0m       \u001b[1;32mif\u001b[0m \u001b[0mrun_metadata\u001b[0m\u001b[1;33m:\u001b[0m\u001b[1;33m\u001b[0m\u001b[0m\n\u001b[0;32m    897\u001b[0m         \u001b[0mproto_data\u001b[0m \u001b[1;33m=\u001b[0m \u001b[0mtf_session\u001b[0m\u001b[1;33m.\u001b[0m\u001b[0mTF_GetBuffer\u001b[0m\u001b[1;33m(\u001b[0m\u001b[0mrun_metadata_ptr\u001b[0m\u001b[1;33m)\u001b[0m\u001b[1;33m\u001b[0m\u001b[0m\n",
      "\u001b[1;32mc:\\users\\vladp\\appdata\\local\\programs\\python\\python36\\lib\\site-packages\\tensorflow\\python\\client\\session.py\u001b[0m in \u001b[0;36m_run\u001b[1;34m(self, handle, fetches, feed_dict, options, run_metadata)\u001b[0m\n\u001b[0;32m   1126\u001b[0m     \u001b[1;32mif\u001b[0m \u001b[0mfinal_fetches\u001b[0m \u001b[1;32mor\u001b[0m \u001b[0mfinal_targets\u001b[0m \u001b[1;32mor\u001b[0m \u001b[1;33m(\u001b[0m\u001b[0mhandle\u001b[0m \u001b[1;32mand\u001b[0m \u001b[0mfeed_dict_tensor\u001b[0m\u001b[1;33m)\u001b[0m\u001b[1;33m:\u001b[0m\u001b[1;33m\u001b[0m\u001b[0m\n\u001b[0;32m   1127\u001b[0m       results = self._do_run(handle, final_targets, final_fetches,\n\u001b[1;32m-> 1128\u001b[1;33m                              feed_dict_tensor, options, run_metadata)\n\u001b[0m\u001b[0;32m   1129\u001b[0m     \u001b[1;32melse\u001b[0m\u001b[1;33m:\u001b[0m\u001b[1;33m\u001b[0m\u001b[0m\n\u001b[0;32m   1130\u001b[0m       \u001b[0mresults\u001b[0m \u001b[1;33m=\u001b[0m \u001b[1;33m[\u001b[0m\u001b[1;33m]\u001b[0m\u001b[1;33m\u001b[0m\u001b[0m\n",
      "\u001b[1;32mc:\\users\\vladp\\appdata\\local\\programs\\python\\python36\\lib\\site-packages\\tensorflow\\python\\client\\session.py\u001b[0m in \u001b[0;36m_do_run\u001b[1;34m(self, handle, target_list, fetch_list, feed_dict, options, run_metadata)\u001b[0m\n\u001b[0;32m   1342\u001b[0m     \u001b[1;32mif\u001b[0m \u001b[0mhandle\u001b[0m \u001b[1;32mis\u001b[0m \u001b[1;32mNone\u001b[0m\u001b[1;33m:\u001b[0m\u001b[1;33m\u001b[0m\u001b[0m\n\u001b[0;32m   1343\u001b[0m       return self._do_call(_run_fn, self._session, feeds, fetches, targets,\n\u001b[1;32m-> 1344\u001b[1;33m                            options, run_metadata)\n\u001b[0m\u001b[0;32m   1345\u001b[0m     \u001b[1;32melse\u001b[0m\u001b[1;33m:\u001b[0m\u001b[1;33m\u001b[0m\u001b[0m\n\u001b[0;32m   1346\u001b[0m       \u001b[1;32mreturn\u001b[0m \u001b[0mself\u001b[0m\u001b[1;33m.\u001b[0m\u001b[0m_do_call\u001b[0m\u001b[1;33m(\u001b[0m\u001b[0m_prun_fn\u001b[0m\u001b[1;33m,\u001b[0m \u001b[0mself\u001b[0m\u001b[1;33m.\u001b[0m\u001b[0m_session\u001b[0m\u001b[1;33m,\u001b[0m \u001b[0mhandle\u001b[0m\u001b[1;33m,\u001b[0m \u001b[0mfeeds\u001b[0m\u001b[1;33m,\u001b[0m \u001b[0mfetches\u001b[0m\u001b[1;33m)\u001b[0m\u001b[1;33m\u001b[0m\u001b[0m\n",
      "\u001b[1;32mc:\\users\\vladp\\appdata\\local\\programs\\python\\python36\\lib\\site-packages\\tensorflow\\python\\client\\session.py\u001b[0m in \u001b[0;36m_do_call\u001b[1;34m(self, fn, *args)\u001b[0m\n\u001b[0;32m   1348\u001b[0m   \u001b[1;32mdef\u001b[0m \u001b[0m_do_call\u001b[0m\u001b[1;33m(\u001b[0m\u001b[0mself\u001b[0m\u001b[1;33m,\u001b[0m \u001b[0mfn\u001b[0m\u001b[1;33m,\u001b[0m \u001b[1;33m*\u001b[0m\u001b[0margs\u001b[0m\u001b[1;33m)\u001b[0m\u001b[1;33m:\u001b[0m\u001b[1;33m\u001b[0m\u001b[0m\n\u001b[0;32m   1349\u001b[0m     \u001b[1;32mtry\u001b[0m\u001b[1;33m:\u001b[0m\u001b[1;33m\u001b[0m\u001b[0m\n\u001b[1;32m-> 1350\u001b[1;33m       \u001b[1;32mreturn\u001b[0m \u001b[0mfn\u001b[0m\u001b[1;33m(\u001b[0m\u001b[1;33m*\u001b[0m\u001b[0margs\u001b[0m\u001b[1;33m)\u001b[0m\u001b[1;33m\u001b[0m\u001b[0m\n\u001b[0m\u001b[0;32m   1351\u001b[0m     \u001b[1;32mexcept\u001b[0m \u001b[0merrors\u001b[0m\u001b[1;33m.\u001b[0m\u001b[0mOpError\u001b[0m \u001b[1;32mas\u001b[0m \u001b[0me\u001b[0m\u001b[1;33m:\u001b[0m\u001b[1;33m\u001b[0m\u001b[0m\n\u001b[0;32m   1352\u001b[0m       \u001b[0mmessage\u001b[0m \u001b[1;33m=\u001b[0m \u001b[0mcompat\u001b[0m\u001b[1;33m.\u001b[0m\u001b[0mas_text\u001b[0m\u001b[1;33m(\u001b[0m\u001b[0me\u001b[0m\u001b[1;33m.\u001b[0m\u001b[0mmessage\u001b[0m\u001b[1;33m)\u001b[0m\u001b[1;33m\u001b[0m\u001b[0m\n",
      "\u001b[1;32mc:\\users\\vladp\\appdata\\local\\programs\\python\\python36\\lib\\site-packages\\tensorflow\\python\\client\\session.py\u001b[0m in \u001b[0;36m_run_fn\u001b[1;34m(session, feed_dict, fetch_list, target_list, options, run_metadata)\u001b[0m\n\u001b[0;32m   1327\u001b[0m           return tf_session.TF_Run(session, options,\n\u001b[0;32m   1328\u001b[0m                                    \u001b[0mfeed_dict\u001b[0m\u001b[1;33m,\u001b[0m \u001b[0mfetch_list\u001b[0m\u001b[1;33m,\u001b[0m \u001b[0mtarget_list\u001b[0m\u001b[1;33m,\u001b[0m\u001b[1;33m\u001b[0m\u001b[0m\n\u001b[1;32m-> 1329\u001b[1;33m                                    status, run_metadata)\n\u001b[0m\u001b[0;32m   1330\u001b[0m \u001b[1;33m\u001b[0m\u001b[0m\n\u001b[0;32m   1331\u001b[0m     \u001b[1;32mdef\u001b[0m \u001b[0m_prun_fn\u001b[0m\u001b[1;33m(\u001b[0m\u001b[0msession\u001b[0m\u001b[1;33m,\u001b[0m \u001b[0mhandle\u001b[0m\u001b[1;33m,\u001b[0m \u001b[0mfeed_dict\u001b[0m\u001b[1;33m,\u001b[0m \u001b[0mfetch_list\u001b[0m\u001b[1;33m)\u001b[0m\u001b[1;33m:\u001b[0m\u001b[1;33m\u001b[0m\u001b[0m\n",
      "\u001b[1;31mKeyboardInterrupt\u001b[0m: "
     ]
    }
   ],
   "source": [
    "\n",
    "noise_list = [0.01/np.sqrt(2)**i for i in range(0, 3)]\n",
    "noise_list = [1/n for n in noise_list]\n",
    "#noise_list = [0.001, 0.0015, 0.01, 0.1/2]\n",
    "#noise_list = [0.0001, 0.009, 2*0.009]\n",
    "print(noise_list)\n",
    "batch_size = 50\n",
    "n_epochs = 1\n",
    "name = 'experiment1'\n",
    "description = 'first simulation. '\n",
    "sim = Simulator(nn_mnist_architecture, 0.01, noise_list, 'betas',\n",
    "               batch_size=batch_size, n_epochs=n_epochs, name=name,\n",
    "               n_simulations=3, swap_attept_step=400, description=description)\n",
    "\n",
    "mnist = input_data.read_data_sets(MNIST_DATAPATH)\n",
    "train_data = mnist.train.images\n",
    "train_labels = mnist.train.labels\n",
    "test_data = mnist.test.images\n",
    "test_labels = mnist.test.labels\n",
    "valid_data = mnist.validation.images\n",
    "valid_labels = mnist.validation.labels\n",
    "sim.train_n_times(sim.train_PTLD, train_data=train_data, train_labels=train_labels,\n",
    "\t\ttest_data=test_data, test_labels=test_labels, \n",
    "\t\tvalidation_data=valid_data, validation_labels=valid_labels)\n"
   ]
  },
  {
   "cell_type": "code",
   "execution_count": null,
   "metadata": {},
   "outputs": [],
   "source": []
  },
  {
   "cell_type": "code",
   "execution_count": null,
   "metadata": {},
   "outputs": [],
   "source": [
    "%matplotlib inline\n",
    "from importlib import reload\n",
    "from simulation import simulator_utils as s_utils\n",
    "reload(s_utils)\n",
    "\n",
    "se = s_utils.SummaryExtractor('experiment1')\n",
    "\n",
    "#fig = se.create_subplot(['test', 'ordered'])"
   ]
  },
  {
   "cell_type": "code",
   "execution_count": null,
   "metadata": {},
   "outputs": [],
   "source": [
    "from simulation import simulator_utils as s_utils\n",
    "reload(s_utils)\n",
    "res = s_utils.extract_summary2(\"C:\\\\alin\\\\github\\\\deep_tempering\\\\simulation\\\\summaries\\\\experiment1\")"
   ]
  },
  {
   "cell_type": "code",
   "execution_count": null,
   "metadata": {},
   "outputs": [],
   "source": [
    "res.keys()"
   ]
  },
  {
   "cell_type": "code",
   "execution_count": null,
   "metadata": {
    "scrolled": true
   },
   "outputs": [],
   "source": [
    "C:\\alin\\github\\deep_tempering\\simulation\\summaries\\experiment1\\0\n",
    "events.out.tfevents.1535577459.V"
   ]
  },
  {
   "cell_type": "code",
   "execution_count": null,
   "metadata": {},
   "outputs": [],
   "source": [
    "from tensorboard.backend.event_processing import event_accumulator\n",
    "res = {}\n",
    "for file in os.listdir(log_dir):\n",
    "\tfullpath = os.path.join(log_dir, file)\n",
    "\tif os.path.isdir(fullpath):\n",
    "\t\tres[file] = []\n",
    "\t\tfor _file in os.listdir(fullpath):\n",
    "\t\t\tfilename = os.path.join(fullpath, _file)\n",
    "\t\t\tea = event_accumulator.EventAccumulator(filename)\n",
    "\t\t\tea.Reload()\n",
    "\t\t\tfor k in ea.scalars.Keys():\n",
    "\t\t\t\tlc = np.stack(\n",
    "\t\t\t\t\t[np.asarray([scalar.step, scalar.value])\n",
    "\t\t\t\t\tfor scalar in ea.Scalars(k)])\n",
    "\t\t\t\tres[k] = lc"
   ]
  },
  {
   "cell_type": "code",
   "execution_count": null,
   "metadata": {},
   "outputs": [],
   "source": []
  }
 ],
 "metadata": {
  "kernelspec": {
   "display_name": "Python 3",
   "language": "python",
   "name": "python3"
  },
  "language_info": {
   "codemirror_mode": {
    "name": "ipython",
    "version": 3
   },
   "file_extension": ".py",
   "mimetype": "text/x-python",
   "name": "python",
   "nbconvert_exporter": "python",
   "pygments_lexer": "ipython3",
   "version": "3.6.6"
  }
 },
 "nbformat": 4,
 "nbformat_minor": 2
}
