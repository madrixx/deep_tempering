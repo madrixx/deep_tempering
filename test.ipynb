{
 "cells": [
  {
   "cell_type": "code",
   "execution_count": 6,
   "metadata": {},
   "outputs": [],
   "source": [
    "import sys\n",
    "def stdwrite(buff):\n",
    "    sys.stdout.write('\\r' + buff)\n",
    "    sys.stdout.flush()"
   ]
  },
  {
   "cell_type": "code",
   "execution_count": null,
   "metadata": {},
   "outputs": [],
   "source": [
    "\n",
    "from importlib import reload\n",
    "from simulation.simulation_builder import graph_builder as gb\n",
    "from simulation.architectures.mnist_architectures import cnn_mnist_architecture\n",
    "from tensorflow.python.client import device_lib\n",
    "import sys\n",
    "import tensorflow as tf\n",
    "tf.logging.set_verbosity(tf.logging.ERROR)\n",
    "reload(gb)\n",
    "g = gb.GraphBuilder(cnn_mnist_architecture,\n",
    "                   learning_rate=0.01,\n",
    "                   noise_list=[0.9, 0.8, 0.7, 0.6],\n",
    "                   noise_type='dropout',\n",
    "                   name='test')\n",
    "#device_lib.list_local_devices()\n",
    "\n",
    "def stdwrite(buff):\n",
    "    sys.stdout.write('\\r' + buff)\n",
    "    sys.stdout.flush()"
   ]
  },
  {
   "cell_type": "code",
   "execution_count": null,
   "metadata": {},
   "outputs": [],
   "source": []
  },
  {
   "cell_type": "code",
   "execution_count": null,
   "metadata": {},
   "outputs": [],
   "source": [
    "batch_size = 50\n",
    "with g._graph.as_default():\n",
    "    from tensorflow.examples.tutorials.mnist import input_data\n",
    "    data_path = 'simulation/data/mnist/'\n",
    "    mnist = input_data.read_data_sets(data_path)\n",
    "    test_feed_dict = g.create_feed_dict(mnist.test.images,\n",
    "                                       mnist.test.labels,\n",
    "                                       test=True)\n",
    "    step = 0\n",
    "    n_iters = n_iters = mnist.train.num_examples // batch_size\n",
    "    with tf.Session() as sess:\n",
    "        sess.run(g.variable_initializer)\n",
    "        for epoch in range(10):\n",
    "            for it in range(n_iters):\n",
    "                step += 1\n",
    "                X_batch, y_batch = mnist.train.next_batch(batch_size)\n",
    "\n",
    "                evaluated = sess.run(g.get_train_ops(),\n",
    "                                    feed_dict=g.create_feed_dict(X_batch,\n",
    "                                                                y_batch))\n",
    "                if it % 200 == 0:\n",
    "                    evaluated = sess.run(g.get_train_ops(test=True),\n",
    "                                        feed_dict=test_feed_dict)\n",
    "                    loss = g.extract_evaluated_tensors(evaluated, 'loss')\n",
    "                    buff = ''\n",
    "                    for l in loss:\n",
    "                        buff = buff + ' ,' + str(l)\n",
    "                    stdwrite(buff)\n",
    "                    #g.update_noise_vals(evaluated)\n",
    "    "
   ]
  },
  {
   "cell_type": "code",
   "execution_count": 2,
   "metadata": {},
   "outputs": [
    {
     "name": "stdout",
     "output_type": "stream",
     "text": [
      "1\n"
     ]
    }
   ],
   "source": [
    "import tensorflow as tf\n",
    "from simulation.simulation_builder import graph_builder as gb\n",
    "from importlib import reload\n",
    "from simulation.architectures.mnist_architectures import nn_mnist_architecture\n",
    "reload(gb)\n",
    "g = gb.GraphBuilder(nn_mnist_architecture,\n",
    "                   learning_rate=0.01,\n",
    "                   noise_list=[0.001, 0.003, 0.004, 0.009],\n",
    "                   noise_type='random_normal',\n",
    "                   name='test')"
   ]
  },
  {
   "cell_type": "code",
   "execution_count": 7,
   "metadata": {},
   "outputs": [
    {
     "name": "stdout",
     "output_type": "stream",
     "text": [
      "Extracting simulation/data/mnist/train-images-idx3-ubyte.gz\n",
      "Extracting simulation/data/mnist/train-labels-idx1-ubyte.gz\n",
      "Extracting simulation/data/mnist/t10k-images-idx3-ubyte.gz\n",
      "Extracting simulation/data/mnist/t10k-labels-idx1-ubyte.gz\n",
      " ,2.5708725 ,2.6581137 ,2.6045806 ,2.6286843"
     ]
    },
    {
     "ename": "SystemExit",
     "evalue": "",
     "output_type": "error",
     "traceback": [
      "An exception has occurred, use %tb to see the full traceback.\n",
      "\u001b[1;31mSystemExit\u001b[0m\n"
     ]
    },
    {
     "name": "stderr",
     "output_type": "stream",
     "text": [
      "c:\\users\\vladp\\appdata\\local\\programs\\python\\python36\\lib\\site-packages\\IPython\\core\\interactiveshell.py:2969: UserWarning: To exit: use 'exit', 'quit', or Ctrl-D.\n",
      "  warn(\"To exit: use 'exit', 'quit', or Ctrl-D.\", stacklevel=1)\n"
     ]
    }
   ],
   "source": [
    "batch_size = 50\n",
    "with g._graph.as_default():\n",
    "    from tensorflow.examples.tutorials.mnist import input_data\n",
    "    data_path = 'simulation/data/mnist/'\n",
    "    mnist = input_data.read_data_sets(data_path)\n",
    "    test_feed_dict = g.create_feed_dict(mnist.test.images,\n",
    "                                       mnist.test.labels,\n",
    "                                       test=True)\n",
    "    step = 0\n",
    "    n_iters = n_iters = mnist.train.num_examples // batch_size\n",
    "    with tf.Session() as sess:\n",
    "        sess.run(g.variable_initializer)\n",
    "        for epoch in range(10):\n",
    "            for it in range(n_iters):\n",
    "                step += 1\n",
    "                X_batch, y_batch = mnist.train.next_batch(batch_size)\n",
    "\n",
    "                evaluated = sess.run(g.get_train_ops(),\n",
    "                                    feed_dict=g.create_feed_dict(X_batch,\n",
    "                                                                y_batch))\n",
    "                if it % 200 == 0:\n",
    "                    evaluated = sess.run(g.get_train_ops(test=True),\n",
    "                                        feed_dict=test_feed_dict)\n",
    "                    loss = g.extract_evaluated_tensors(evaluated, 'loss')\n",
    "                    buff = ''\n",
    "                    for l in loss:\n",
    "                        buff = buff + ' ,' + str(l)\n",
    "                    stdwrite(buff)\n",
    "                    g.update_noise_vals(evaluated)\n",
    "    "
   ]
  },
  {
   "cell_type": "code",
   "execution_count": 8,
   "metadata": {},
   "outputs": [
    {
     "ename": "ValueError",
     "evalue": "This is test for me",
     "output_type": "error",
     "traceback": [
      "\u001b[1;31m---------------------------------------------------------------------------\u001b[0m",
      "\u001b[1;31mValueError\u001b[0m                                Traceback (most recent call last)",
      "\u001b[1;32m<ipython-input-8-c407120cb016>\u001b[0m in \u001b[0;36m<module>\u001b[1;34m()\u001b[0m\n\u001b[1;32m----> 1\u001b[1;33m \u001b[1;32mraise\u001b[0m \u001b[0mValueError\u001b[0m\u001b[1;33m(\u001b[0m\u001b[1;34m\"\"\"This is test for me\"\"\"\u001b[0m\u001b[1;33m)\u001b[0m\u001b[1;33m\u001b[0m\u001b[0m\n\u001b[0m",
      "\u001b[1;31mValueError\u001b[0m: This is test for me"
     ]
    }
   ],
   "source": [
    "raise ValueError(\"\"\"This is test for me\"\"\")"
   ]
  },
  {
   "cell_type": "code",
   "execution_count": null,
   "metadata": {},
   "outputs": [],
   "source": []
  },
  {
   "cell_type": "code",
   "execution_count": null,
   "metadata": {},
   "outputs": [],
   "source": []
  },
  {
   "cell_type": "code",
   "execution_count": null,
   "metadata": {},
   "outputs": [],
   "source": []
  },
  {
   "cell_type": "code",
   "execution_count": null,
   "metadata": {},
   "outputs": [],
   "source": []
  }
 ],
 "metadata": {
  "kernelspec": {
   "display_name": "Python 3",
   "language": "python",
   "name": "python3"
  },
  "language_info": {
   "codemirror_mode": {
    "name": "ipython",
    "version": 3
   },
   "file_extension": ".py",
   "mimetype": "text/x-python",
   "name": "python",
   "nbconvert_exporter": "python",
   "pygments_lexer": "ipython3",
   "version": "3.6.6"
  }
 },
 "nbformat": 4,
 "nbformat_minor": 2
}
